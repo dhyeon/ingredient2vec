{
 "cells": [
  {
   "cell_type": "code",
   "execution_count": 1,
   "metadata": {
    "collapsed": true
   },
   "outputs": [],
   "source": [
    "import pandas as pd\n",
    "import networkx as nx\n",
    "\n",
    "#ingredient and compound information\n",
    "comp = pd.read_csv('data/comp_info.tsv',index_col=0,sep='\\t')\n",
    "ingr_comp = pd.read_csv('data/ingr_comp.tsv',sep='\\t')\n",
    "ingr = pd.read_csv('data/ingr_info.tsv',index_col=0,sep='\\t')\n",
    "#edge between ingredients\n",
    "df = pd.read_csv('data/srep00196-s2.csv',skiprows=4,header=None)\n",
    "df.columns = ['ingr1','ingr2','shared']\n",
    "#merge with 'ingr' to get category information\n",
    "df_category = pd.merge(df,ingr, left_on='ingr1', right_on='ingredient name').drop('ingredient name',axis=1)\n",
    "\n",
    "#create ingredient lists from recipes\n",
    "recipe = pd.read_csv('data/srep00196-s3.csv',skiprows=3,sep='\\t')\n",
    "recipe.columns=['recipes']\n",
    "#create ingredients column with the first label for cuisine\n",
    "recipe['ingredients'] = recipe['recipes'].apply(lambda x: x.split(',')[1:])\n",
    "all_ingredients = set()\n",
    "recipe.ingredients.map(lambda x: [all_ingredients.add(i) for i in x])\n",
    "len(all_ingredients) #381 ingredients\n",
    "\n",
    "#filter dataframe with all_ingredients\n",
    "df_subset = df_category[df_category['ingr1'].isin(all_ingredients)]\n",
    "df_subset = df_subset[df_subset['ingr2'].isin(all_ingredients)]"
   ]
  },
  {
   "cell_type": "code",
   "execution_count": 2,
   "metadata": {
    "collapsed": true
   },
   "outputs": [],
   "source": [
    "####build graph and extract backbone\n",
    "G1 = nx.Graph()\n",
    "weights ={}\n",
    "for i in xrange(df_subset.shape[0]):\n",
    "    G1.add_edge(df_subset.iloc[i,0],df_subset.iloc[i,1])\n",
    "    weights[df_subset.iloc[i,0],df_subset.iloc[i,1]] = df_subset.iloc[i,2]\n",
    "    weights[df_subset.iloc[i,1],df_subset.iloc[i,0]] = df_subset.iloc[i,2]\n",
    "\n",
    "#extract backbone of graph, using disparity filter\n",
    "def extract_backbone(G, weights, alpha):\n",
    "    keep_graph = nx.Graph()\n",
    "    for n in G:\n",
    "        k_n = len( G[n] )\n",
    "        if k_n > 1:\n",
    "            sum_w = sum( weights[n,nj] for nj in G[n] )\n",
    "            for nj in G[n]:\n",
    "                pij = 1.0*weights[n,nj]/sum_w\n",
    "                if (1-pij)**(k_n-1) < alpha: # edge is significant\n",
    "                    keep_graph.add_edge( n,nj )\n",
    "    return keep_graph\n",
    "\n",
    "alpha = 0.04\n",
    "G1_backbone = extract_backbone(G1, weights, alpha)\n",
    "\n",
    "#make weights into a list and include both directions\n",
    "weights_subset = []\n",
    "for (u,v) in G1_backbone.edges():\n",
    "    weights_subset.append((u,v,weights[u,v]))\n",
    "    weights_subset.append((v,u,weights[u,v]))\n",
    "\n",
    "df_weights = pd.DataFrame(data=weights_subset)\n",
    "df_backbone = pd.merge(df_weights,ingr, left_on=0, right_on='ingredient name').drop('ingredient name',axis=1)\n",
    "\n",
    "#get prevalance of each ingredient from recipes\n",
    "recipe_count = recipe.copy()\n",
    "for item in all_ingredients:\n",
    "    recipe_count[item] = recipe_count['ingredients'].apply(lambda x:item in x)\n",
    "\n",
    "recipe_count1 = recipe_count.drop(['recipes','ingredients'],axis=1)\n",
    "recipe_count2 = recipe_count1.sum(axis=0)\n",
    "total = recipe_count2.sum()\n",
    "recipe_count3 = recipe_count2/float(total)\n",
    "recipe_count4= recipe_count3/recipe_count3.max()\n",
    "recipe_count5= pd.DataFrame(recipe_count4)\n",
    "recipe_count5['ingredient name'] = recipe_count5.index\n",
    "recipe_count5.columns = ['prevalence','ingredient name']\n",
    "ingr_count = pd.merge(ingr,recipe_count5,on='ingredient name')\n",
    "\n",
    "\n",
    "df_backbone = pd.merge(df_weights,ingr_count, left_on=0, right_on='ingredient name').drop('ingredient name',axis=1)\n",
    "\n",
    "df_backbone.to_csv('data/backbone.csv',index=False)\n",
    "#use this csv in cytoscape to make the final graph"
   ]
  },
  {
   "cell_type": "code",
   "execution_count": null,
   "metadata": {
    "collapsed": true
   },
   "outputs": [],
   "source": []
  }
 ],
 "metadata": {
  "kernelspec": {
   "display_name": "Python 2",
   "language": "python",
   "name": "python2"
  },
  "language_info": {
   "codemirror_mode": {
    "name": "ipython",
    "version": 2
   },
   "file_extension": ".py",
   "mimetype": "text/x-python",
   "name": "python",
   "nbconvert_exporter": "python",
   "pygments_lexer": "ipython2",
   "version": "2.7.13"
  }
 },
 "nbformat": 4,
 "nbformat_minor": 2
}
