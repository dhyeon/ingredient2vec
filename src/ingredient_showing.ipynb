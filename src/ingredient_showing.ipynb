{
 "cells": [
  {
   "cell_type": "code",
   "execution_count": 14,
   "metadata": {},
   "outputs": [
    {
     "name": "stdout",
     "output_type": "stream",
     "text": [
      "\n",
      "\n",
      "...Load Word2Vec with a file name of ../results/embeddings/embeddings_ingredients_cc_inchi_f-5_rs-True_ns-50_ifcharemb-True_dim-10_1801041938.bin\n",
      "\n",
      "\n",
      "...Load Word2Vec with a file name of ../results/embeddings/embeddings_ingredients_ic_f-5_rs-False_ns-50_ifcharemb-True_dim-10_1801041938.bin\n"
     ]
    }
   ],
   "source": [
    "import os\n",
    "import collections\n",
    "import smart_open\n",
    "import random\n",
    "import numpy as np\n",
    "import h5py\n",
    "from gensim.models.keyedvectors import KeyedVectors\n",
    "\n",
    "import Config\n",
    "from utils import DataLoader, GensimModels, DataPlotter\n",
    "gensimLoader = GensimModels.GensimModels()\n",
    "dataLoader = DataLoader.DataLoader()\n",
    "\n",
    "path_results = \"..\" + os.sep + \"results\" + os.sep + \"embeddings\"\n",
    "path_data = '..' + os.sep + 'data'\n",
    "\n",
    "path_ingr_info = path_data + os.sep + 'scientific_report' + os.sep + 'ingr_info.tsv'\n",
    "model_ingr2vec_cc = gensimLoader.load_word2vec(path=path_results + os.sep + \"embeddings_ingredients_cc_inchi_f-5_rs-True_ns-50_ifcharemb-True_dim-10_1801041938.bin\")\n",
    "model_ingr2vec_ic = gensimLoader.load_word2vec(path=path_results + os.sep + \"embeddings_ingredients_ic_f-5_rs-False_ns-50_ifcharemb-True_dim-10_1801041938.bin\")"
   ]
  },
  {
   "cell_type": "code",
   "execution_count": 15,
   "metadata": {},
   "outputs": [
    {
     "name": "stdout",
     "output_type": "stream",
     "text": [
      "619\n",
      "2073\n"
     ]
    }
   ],
   "source": [
    "print len(model_ingr2vec_cc.vocab)\n",
    "print len(model_ingr2vec_ic.vocab)"
   ]
  },
  {
   "cell_type": "code",
   "execution_count": 16,
   "metadata": {},
   "outputs": [
    {
     "name": "stdout",
     "output_type": "stream",
     "text": [
      "278\n"
     ]
    }
   ],
   "source": [
    "both = []\n",
    "for i in model_ingr2vec_cc.vocab:\n",
    "    if i in model_ingr2vec_ic.vocab:\n",
    "        both.append(i)\n",
    "print len(both)"
   ]
  },
  {
   "cell_type": "code",
   "execution_count": 34,
   "metadata": {},
   "outputs": [
    {
     "name": "stdout",
     "output_type": "stream",
     "text": [
      "55\n"
     ]
    }
   ],
   "source": [
    "ingredients = dataLoader.load_ingredients(path_ingr_info)\n",
    "category_ingredients = {}\n",
    "\n",
    "for i in ingredients:\n",
    "    ingr = ingredients[i][0]\n",
    "    cate = ingredients[i][1]\n",
    "    \n",
    "    if cate in category_ingredients:\n",
    "        category_ingredients[cate].append(ingr)\n",
    "    else:\n",
    "        category_ingredients[cate] = [ingr]\n",
    "\n",
    "print len(category_ingredients['spice'])"
   ]
  },
  {
   "cell_type": "code",
   "execution_count": 40,
   "metadata": {},
   "outputs": [
    {
     "name": "stdout",
     "output_type": "stream",
     "text": [
      "\n",
      "thai_pepper\n",
      "\n",
      "Compound Embedding\n",
      "[(u'tabasco_pepper', 0.9998734593391418), (u'malagueta_pepper', 0.9998453855514526), (u'ashanti_pepper', 0.9997861385345459), (u'ethiopian_pepper', 0.9996530413627625), (u'capsicum', 0.9996020793914795), (u'green_bell_pepper', 0.9995071291923523), (u'california_pepper', 0.9994871020317078), (u'pepper', 0.9994101524353027), (u'long_pepper', 0.9992206692695618), (u'cayenne', 0.9991042017936707)]\n",
      "\n",
      "Ingredient Context Embedding\n",
      "[(u'galanga', 0.8593188524246216), (u'octopus', 0.8207598924636841), (u'root', 0.7906557321548462), (u'kelp', 0.7530686855316162), (u'nira', 0.7406470775604248), (u'mussel', 0.7387921214103699), (u'long_beans', 0.7385683655738831), (u'lemongrass', 0.7286195755004883), (u'thai_chile', 0.7249581813812256), (u'prawn', 0.7238914370536804)]\n",
      "\n",
      "\n",
      "\n",
      "cinnamon\n",
      "\n",
      "Compound Embedding\n",
      "[(u'cassia', 0.9949666261672974), (u'eucalyptus', 0.9947808980941772), (u'myrtle', 0.9942435622215271), (u'tobacco', 0.9941427111625671), (u'clove', 0.993821918964386), (u'orange_flower', 0.9930298924446106), (u'bulgarian_rose', 0.9928670525550842), (u'fennel', 0.9927981495857239), (u'pimento', 0.9918992519378662), (u'pepper', 0.991817831993103)]\n",
      "\n",
      "Ingredient Context Embedding\n",
      "[(u'mace', 0.7078461050987244), (u'cardamom', 0.6245687007904053), (u'apricot', 0.5905779600143433), (u'ground_cloves', 0.5758578181266785), (u'currant', 0.5666882395744324), (u'whole_cloves', 0.5610303282737732), (u'cardamon', 0.5484664440155029), (u'date', 0.5430352687835693), (u'golden_raisins', 0.5257516503334045), (u'yam', 0.5244641900062561)]\n",
      "\n",
      "\n",
      "\n",
      "cardamom\n",
      "\n",
      "Compound Embedding\n",
      "[(u'java_citronella', 0.9946469068527222), (u'lemongrass', 0.99258953332901), (u'caraway_seed', 0.9906631112098694), (u'cilantro', 0.9872983694076538), (u'animal', 0.9847615957260132), (u'mandarin_peel_oil', 0.9841147661209106), (u'angelica_root', 0.9839397072792053), (u'neroli_oil', 0.9834910035133362), (u'cypress', 0.9827254414558411), (u'mandarin_peel', 0.981389582157135)]\n",
      "\n",
      "Ingredient Context Embedding\n",
      "[(u'mace', 0.8522912859916687), (u'clove', 0.8476210832595825), (u'ghee', 0.8256346583366394), (u'curds', 0.8199046850204468), (u'yoghurt', 0.8071568608283997), (u'whole_cloves', 0.7904105186462402), (u'tumeric', 0.7760809063911438), (u'jaggery', 0.7699851989746094), (u'garam_masala', 0.7601115703582764), (u'kasuri_methi', 0.755323052406311)]\n",
      "\n",
      "\n",
      "\n",
      "black_pepper\n",
      "\n",
      "Compound Embedding\n",
      "[(u'california_pepper', 0.9997951984405518), (u'long_pepper', 0.9997943639755249), (u'capsicum_annuum', 0.9996607899665833), (u'ethiopian_pepper', 0.9996483325958252), (u'pepper', 0.9996324777603149), (u'guinea_pepper', 0.9996302723884583), (u'capsicum', 0.9995566010475159), (u'ashanti_pepper', 0.9995017051696777), (u'tabasco_pepper', 0.9990852475166321), (u'malagueta_pepper', 0.9990678429603577)]\n",
      "\n",
      "Ingredient Context Embedding\n",
      "[(u'brassica', 0.6608272194862366), (u'bell_pepper', 0.6571577787399292), (u'chicken_broth', 0.6483199000358582), (u'white_wine', 0.6249864101409912), (u'roasted_sesame_seed', 0.6017838716506958), (u'scallion', 0.5934609770774841), (u'green_bell_pepper', 0.5881403684616089), (u'vegetable_oil', 0.5845540165901184), (u'radish', 0.5777170658111572), (u'beef_broth', 0.5734724998474121)]\n",
      "\n",
      "\n",
      "\n",
      "turmeric\n",
      "\n",
      "Compound Embedding\n",
      "[(u'ginger', 0.9970473051071167), (u'cumin', 0.9969937205314636), (u'clary_sage', 0.9942094683647156), (u'laurel', 0.9932886362075806), (u'mace', 0.9931756854057312), (u'nutmeg', 0.9899790287017822), (u'caraway', 0.9899508953094482), (u'rosemary', 0.9896728992462158), (u'basil', 0.9888530969619751), (u'rapeseed', 0.9886210560798645)]\n",
      "\n",
      "Ingredient Context Embedding\n",
      "[(u'tumeric', 0.7417309880256653), (u'garam_masala', 0.6949645280838013), (u'cashew', 0.6757534146308899), (u'curry', 0.6470047235488892), (u'red_lentils', 0.6425668597221375), (u'curry_leaves', 0.6248615384101868), (u'fresh_curry_leaves', 0.6138770580291748), (u'chickpea', 0.5900774002075195), (u'yoghurt', 0.5895331501960754), (u'urad_dal', 0.5893557667732239)]\n",
      "\n",
      "\n",
      "\n",
      "coriander\n",
      "\n",
      "Compound Embedding\n",
      "[(u'azalea', 0.9930391907691956), (u'cruciferae_seed', 0.9928219318389893), (u'mace', 0.9918245077133179), (u'carrot', 0.9908903241157532), (u'acacia', 0.9906306266784668), (u'dill_blossom', 0.990319013595581), (u'east_indian_geranium', 0.9899555444717407), (u'chestnut_flower', 0.9895392060279846), (u'neroli', 0.9895333647727966), (u'rapeseed', 0.9894851446151733)]\n",
      "\n",
      "Ingredient Context Embedding\n",
      "[(u'garam_masala', 0.7264569997787476), (u'fresh_curry_leaves', 0.7255572080612183), (u'curry', 0.7021230459213257), (u'tumeric', 0.6968111395835876), (u'curry_leaves', 0.6953660249710083), (u'cashew', 0.6905635595321655), (u'red_chili_powder', 0.6683449149131775), (u'dried_red_chile_peppers', 0.6574586629867554), (u'urad_dal', 0.6563279628753662), (u'red_lentils', 0.6562294363975525)]\n",
      "\n",
      "\n",
      "\n",
      "tamarind\n",
      "\n",
      "Compound Embedding\n",
      "[(u'raisin', 0.9968722462654114), (u'japanese_plum', 0.9932718276977539), (u'endive', 0.9921295642852783), (u'oat', 0.9920105338096619), (u'prickly_pear', 0.9920040369033813), (u'saffron', 0.9909259080886841), (u'soybean', 0.9908262491226196), (u'toasted_oat', 0.9905874729156494), (u'rice', 0.9904166460037231), (u'okra', 0.990278422832489)]\n",
      "\n",
      "Ingredient Context Embedding\n",
      "[(u'tabasco_pepper', 0.6476220488548279), (u'roasted_beef', 0.5562087297439575), (u'bell_pepper', 0.5371447801589966), (u'horseradish', 0.5338757038116455), (u'celery_oil', 0.5265858769416809), (u'smoke', 0.5201981067657471), (u'tomato_juice', 0.5173832178115845), (u'green_bell_pepper', 0.5087340474128723), (u'chinese_cabbage', 0.5052231550216675), (u'radish', 0.5047739744186401)]\n",
      "\n",
      "\n",
      "\n",
      "licorice\n",
      "\n",
      "Compound Embedding\n",
      "[(u'peated_malt', 0.9918969869613647), (u'buckwheat', 0.9914918541908264), (u'sapodilla_fruit', 0.9880099892616272), (u'cuttlefish', 0.9875321984291077), (u'black_tea', 0.985339879989624), (u'roasted_mate', 0.98479163646698), (u'fermented_shrimp', 0.9845986366271973), (u'wild_rice', 0.9845602512359619), (u'scotch', 0.9843502044677734), (u'roasted_shrimp', 0.983203113079071)]\n",
      "\n",
      "Ingredient Context Embedding\n",
      "[(u'aai', 0.9226027131080627), (u'cookies', 0.9209880232810974), (u'firmly_packed_light_brown_sugar', 0.9204803109169006), (u'brewed_espresso', 0.9190032482147217), (u'espresso', 0.9143555164337158), (u'chocolate_syrup', 0.9140827655792236), (u'extract', 0.9092536568641663), (u'cacao', 0.9027674794197083), (u'cool_whip', 0.9027506113052368), (u'color_food_green', 0.9017561674118042)]\n",
      "\n",
      "\n",
      "\n",
      "ginger\n",
      "\n",
      "Compound Embedding\n",
      "[(u'cumin', 0.9987381100654602), (u'turmeric', 0.997047483921051), (u'laurel', 0.9960988163948059), (u'nutmeg', 0.9947225451469421), (u'fennel', 0.993418276309967), (u'spanish_sage', 0.9933770298957825), (u'mace', 0.9932326674461365), (u'celery_seed', 0.9929561018943787), (u'tarragon', 0.992766797542572), (u'basil', 0.9921655654907227)]\n",
      "\n",
      "Ingredient Context Embedding\n",
      "[(u'cashew', 0.6894425749778748), (u'gingerroot', 0.6418617963790894), (u'dried_red_chile_peppers', 0.5872674584388733), (u'red_chili_peppers', 0.5872126817703247), (u'leaves', 0.5658700466156006), (u'prawn', 0.5586203336715698), (u'sunflower_oil', 0.5575149059295654), (u'anise', 0.5517506003379822), (u'peanuts', 0.5505467057228088), (u'lemongrass', 0.5488912463188171)]\n",
      "\n",
      "\n",
      "\n",
      "clove\n",
      "\n",
      "Compound Embedding\n",
      "[(u'german_chamomile_oil', 0.9954310059547424), (u'eucalyptus', 0.9947994947433472), (u'anise', 0.9940397143363953), (u'cinnamon', 0.9938219785690308), (u'basil', 0.9936416149139404), (u'fennel', 0.9933056235313416), (u'chinese_star_anise', 0.9925674200057983), (u'sage', 0.9924664497375488), (u'star_anise', 0.9922341704368591), (u'myrtle', 0.9917410016059875)]\n",
      "\n",
      "Ingredient Context Embedding\n",
      "[(u'black_peppercorns', 0.881616473197937), (u'whole_cloves', 0.8555935025215149), (u'cardamom', 0.8476210832595825), (u'peppercorns', 0.8288131952285767), (u'red_chili_powder', 0.8085736036300659), (u'ghee', 0.8034188151359558), (u'curds', 0.7997068166732788), (u'mace', 0.7956750392913818), (u'curry', 0.7891721129417419), (u'fresh_curry_leaves', 0.7854694724082947)]\n",
      "\n",
      "\n",
      "\n",
      "star_anise\n",
      "\n",
      "Compound Embedding\n",
      "[(u'chinese_star_anise', 0.9996545314788818), (u'japanese_star_anise', 0.9993249177932739), (u'anise', 0.9948580861091614), (u'daffodil', 0.9945757985115051), (u'cassia', 0.9943175911903381), (u'camphor_oil', 0.9933823943138123), (u'hyacinth', 0.9932013750076294), (u'fennel', 0.9930497407913208), (u'camphor', 0.9930142760276794), (u'clove', 0.9922339916229248)]\n",
      "\n",
      "Ingredient Context Embedding\n",
      "[(u'cranberry', 0.8045181632041931), (u'orange_juice', 0.7585805654525757), (u'yam', 0.7568726539611816), (u'pear', 0.7481081485748291), (u'sweet_potato', 0.7366814017295837), (u'port_wine', 0.7166492342948914), (u'currant', 0.705673336982727), (u'orange_peel', 0.705380916595459), (u'black_tea', 0.6934322118759155), (u'kumquat', 0.6920896172523499)]\n",
      "\n",
      "\n",
      "\n",
      "mace\n",
      "\n",
      "Compound Embedding\n",
      "[(u'nutmeg', 0.9944154024124146), (u'cruciferae_seed', 0.9942625164985657), (u'rapeseed', 0.9941176176071167), (u'dill', 0.9933305978775024), (u'ginger', 0.9932326078414917), (u'turmeric', 0.9931758642196655), (u'basil', 0.9922670722007751), (u'cumin', 0.9921951293945312), (u'seed', 0.9919047355651855), (u'carrot', 0.9919025897979736)]\n",
      "\n",
      "Ingredient Context Embedding\n",
      "[(u'cardamom', 0.8522912859916687), (u'whole_cloves', 0.8145442605018616), (u'currant', 0.8044429421424866), (u'clove', 0.7956750392913818), (u'apricot', 0.7892049551010132), (u'shahi_jeera', 0.7651662230491638), (u'allspice', 0.740229070186615), (u'sweet_potato', 0.7361322045326233), (u'curds', 0.7289332151412964), (u'cinnamon', 0.7078461050987244)]\n",
      "\n",
      "\n",
      "\n",
      "cumin\n",
      "\n",
      "Compound Embedding\n",
      "[(u'ginger', 0.9987379908561707), (u'laurel', 0.9979020357131958), (u'turmeric', 0.9969937801361084), (u'nutmeg', 0.9941482543945312), (u'spanish_sage', 0.9934653043746948), (u'celery_seed', 0.9933322072029114), (u'tarragon', 0.9928816556930542), (u'caraway', 0.9928439855575562), (u'mace', 0.9921951293945312), (u'clary_sage', 0.9921689629554749)]\n",
      "\n",
      "Ingredient Context Embedding\n",
      "[(u'chopped_tomatoes', 0.5296465158462524), (u'garam_masala', 0.5153153538703918), (u'masala', 0.5078413486480713), (u'red_lentils', 0.48657023906707764), (u'cilantro', 0.47618338465690613), (u'green_chilies', 0.47230264544487), (u'curry', 0.46659040451049805), (u'lentils', 0.4594101309776306), (u'yellow_split_peas', 0.458162784576416), (u'fresh_curry_leaves', 0.4564402997493744)]\n",
      "\n",
      "\n",
      "\n",
      "nutmeg\n",
      "\n",
      "Compound Embedding\n",
      "[(u'spanish_sage', 0.9958893060684204), (u'laurel', 0.9954202175140381), (u'seed', 0.9950995445251465), (u'rapeseed', 0.9947525262832642), (u'ginger', 0.9947224259376526), (u'mace', 0.9944154024124146), (u'cumin', 0.9941482543945312), (u'tarragon', 0.993852436542511), (u'celery_seed', 0.9936388731002808), (u'safflower_seed', 0.993089497089386)]\n",
      "\n",
      "Ingredient Context Embedding\n",
      "[(u'yam', 0.5540042519569397), (u'currant', 0.5257267355918884), (u'sweet_potato', 0.5170875191688538), (u'mace', 0.5121788382530212), (u'apricot', 0.4986836612224579), (u'date', 0.488433837890625), (u'quince', 0.4805235266685486), (u'sage', 0.4758433401584625), (u'fig', 0.47303062677383423), (u'maple_syrup', 0.4584905207157135)]\n",
      "\n",
      "\n",
      "\n",
      "tabasco_pepper\n",
      "\n",
      "Compound Embedding\n",
      "[(u'malagueta_pepper', 0.9999192357063293), (u'thai_pepper', 0.9998734593391418), (u'ashanti_pepper', 0.9997867345809937), (u'ethiopian_pepper', 0.9995846152305603), (u'capsicum', 0.9994514584541321), (u'california_pepper', 0.9994248151779175), (u'pepper', 0.9994179010391235), (u'green_bell_pepper', 0.9992835521697998), (u'black_pepper', 0.9990852475166321), (u'long_pepper', 0.9990608096122742)]\n",
      "\n",
      "Ingredient Context Embedding\n",
      "[(u'tomato_juice', 0.7609369158744812), (u'smoke', 0.7138051986694336), (u'roasted_sesame_seed', 0.6857780814170837), (u'radish', 0.6775346398353577), (u'lima_bean', 0.6767318844795227), (u'cayenne', 0.6756259202957153), (u'black_bean', 0.6738163828849792), (u'corn_grit', 0.6665230989456177), (u'horseradish', 0.6612229347229004), (u'celery_oil', 0.654233455657959)]\n",
      "\n",
      "\n",
      "\n",
      "vanilla\n",
      "\n",
      "Compound Embedding\n",
      "[(u'cherimoya', 0.9958348274230957), (u'cognac', 0.9952086806297302), (u'yellow_passion_fruit', 0.994492769241333), (u'yellow_passion_fruit_juice', 0.9944713711738586), (u'bilberry_wine', 0.9931601881980896), (u'grape_vine', 0.9923215508460999), (u'tomato', 0.9923213720321655), (u'roasted_chicory_root', 0.9912036061286926), (u'mountain_papaya', 0.9909027218818665), (u'malt_whiskey', 0.990778923034668)]\n",
      "\n",
      "Ingredient Context Embedding\n",
      "[(u'oatmeal', 0.832697868347168), (u'sour_milk', 0.81169193983078), (u'chocolate', 0.7812902331352234), (u'fruit', 0.7811604738235474), (u'blackberry', 0.7607824802398682), (u'rhubarb', 0.7607781887054443), (u'coffee', 0.7596724629402161), (u'semisweet_chocolate', 0.7446810007095337), (u'bittersweet_chocolate', 0.7414347529411316), (u'confectioners_sugar', 0.7412296533584595)]\n",
      "\n",
      "\n",
      "\n",
      "pimento\n",
      "\n",
      "Compound Embedding\n",
      "[(u'tabasco_pepper', 0.9945508241653442), (u'malagueta_pepper', 0.994268000125885), (u'thai_pepper', 0.9936816096305847), (u'ashanti_pepper', 0.9933977127075195), (u'cayenne', 0.9931506514549255), (u'ethiopian_pepper', 0.9921823143959045), (u'cinnamon', 0.9918992519378662), (u'pepper', 0.991893470287323), (u'capsicum', 0.9914380311965942), (u'feijoa', 0.9913943409919739)]\n",
      "\n",
      "Ingredient Context Embedding\n",
      "[(u'artichoke', 0.7053838968276978), (u'tuna', 0.6810252666473389), (u'blue_cheese', 0.6606178879737854), (u'rye_bread', 0.6546962857246399), (u'goat_cheese', 0.6469590663909912), (u'white_bread', 0.6398066878318787), (u'wheat_bread', 0.6257184147834778), (u'cured_pork', 0.6111721396446228), (u'feta_cheese', 0.6110793352127075), (u'smoked_salmon', 0.6104748845100403)]\n",
      "\n",
      "\n",
      "\n",
      "cayenne\n",
      "\n",
      "Compound Embedding\n",
      "[(u'thai_pepper', 0.9991042017936707), (u'tabasco_pepper', 0.9989566206932068), (u'malagueta_pepper', 0.9987990856170654), (u'green_bell_pepper', 0.9987159967422485), (u'capsicum', 0.9985600113868713), (u'ashanti_pepper', 0.9982471466064453), (u'california_pepper', 0.9980998039245605), (u'ethiopian_pepper', 0.998005747795105), (u'pepper', 0.9976247549057007), (u'capsicum_annuum', 0.9975545406341553)]\n",
      "\n",
      "Ingredient Context Embedding\n",
      "[(u'tabasco_pepper', 0.6756259202957153), (u'black_bean', 0.6255878210067749), (u'bell_pepper', 0.5737097859382629), (u'kidney_bean', 0.5533638000488281), (u'carrot', 0.5041618347167969), (u'lima_bean', 0.5015048980712891), (u'tomato_juice', 0.4926721453666687), (u'corn_grit', 0.49256980419158936), (u'lime_juice', 0.48921000957489014), (u'green_bell_pepper', 0.48676037788391113)]\n",
      "\n",
      "\n",
      "\n",
      "pepper\n",
      "\n",
      "Compound Embedding\n",
      "[(u'ethiopian_pepper', 0.9999457001686096), (u'guinea_pepper', 0.9998302459716797), (u'long_pepper', 0.9997944831848145), (u'california_pepper', 0.9997341632843018), (u'capsicum', 0.9997206330299377), (u'ashanti_pepper', 0.9997079968452454), (u'black_pepper', 0.9996324777603149), (u'malagueta_pepper', 0.9996126890182495), (u'green_bell_pepper', 0.9994496703147888), (u'capsicum_annuum', 0.9994233846664429)]\n",
      "\n",
      "Ingredient Context Embedding\n",
      "[(u'kale', 0.5875422954559326), (u'stewed_tomatoes', 0.5402857661247253), (u'andouille_sausage', 0.5250869989395142), (u'white_beans', 0.5244347453117371), (u'smoked_paprika', 0.519072413444519), (u'turkey', 0.5176275372505188), (u'okra', 0.5164663791656494), (u'tomatoes_with_juice', 0.5158097147941589), (u'kidney_beans', 0.5028445720672607), (u'sausages', 0.5005861520767212)]\n",
      "\n",
      "\n",
      "\n",
      "anise\n",
      "\n",
      "Compound Embedding\n",
      "[(u'chinese_star_anise', 0.996337890625), (u'japanese_star_anise', 0.9955263733863831), (u'fennel', 0.9953320622444153), (u'star_anise', 0.9948580265045166), (u'clove', 0.9940395355224609), (u'eucalyptus_globulus', 0.9928184747695923), (u'sage', 0.9918668270111084), (u'tarragon', 0.990770161151886), (u'calabash_nutmeg', 0.9902218580245972), (u'german_chamomile_oil', 0.9900035262107849)]\n",
      "\n",
      "Ingredient Context Embedding\n",
      "[(u'whole_cloves', 0.6810614466667175), (u'szechwan_peppercorns', 0.6722577810287476), (u'clove', 0.6486358046531677), (u'cornflour', 0.646857500076294), (u'dried_red_chile_peppers', 0.6438146233558655), (u'star_anise', 0.6372888088226318), (u'cardamom', 0.6344781517982483), (u'peppercorns', 0.6298401355743408), (u'malt', 0.6210935115814209), (u'mace', 0.6164873838424683)]\n",
      "\n",
      "\n",
      "\n",
      "saffron\n",
      "\n",
      "Compound Embedding\n",
      "[(u'rice', 0.9924017786979675), (u'tomato', 0.9919756054878235), (u'hyacinth_oil', 0.9917251467704773), (u'brown_rice', 0.9913511872291565), (u'lingonberry', 0.9912710189819336), (u'tamarind', 0.9909257292747498), (u'raisin', 0.9906781911849976), (u'orange_flower', 0.9904770255088806), (u'peru_balsam', 0.9895316958427429), (u'potato_chip', 0.989494800567627)]\n",
      "\n",
      "Ingredient Context Embedding\n",
      "[(u'chickpeas', 0.7422950863838196), (u'couscous', 0.740629255771637), (u'ras_el_hanout', 0.6837428212165833), (u'fennel', 0.6548314690589905), (u'cardamom', 0.6435984969139099), (u'lamb', 0.6280325055122375), (u'mussels', 0.6149164438247681), (u'sweet_paprika', 0.607223629951477), (u'black_peppercorns', 0.6044171452522278), (u'tumeric', 0.6019299626350403)]\n",
      "\n",
      "\n",
      "\n",
      "caraway\n",
      "\n",
      "Compound Embedding\n",
      "[(u'rosemary', 0.9952489733695984), (u'laurel', 0.9928631782531738), (u'cumin', 0.9928439855575562), (u'celery_seed', 0.9923613667488098), (u'ginger', 0.9918344616889954), (u'cypress', 0.9910918474197388), (u'citronella', 0.9908724427223206), (u'angelica_root', 0.990636944770813), (u'angelica_root_oil', 0.9901500940322876), (u'calabash_nutmeg', 0.9900018572807312)]\n",
      "\n",
      "Ingredient Context Embedding\n",
      "[(u'sauerkraut', 0.7614206075668335), (u'seed', 0.6336358785629272), (u'lima_bean', 0.6259648203849792), (u'roasted_pork', 0.6075268983840942), (u'rye_flour', 0.6006981730461121), (u'turnip', 0.5971267223358154), (u'mustard', 0.5809628367424011), (u'rutabaga', 0.578999400138855), (u'beet', 0.5636249780654907), (u'parsnip', 0.5567858219146729)]\n",
      "\n",
      "\n",
      "22\n"
     ]
    }
   ],
   "source": [
    "cate = 'spice'\n",
    "\n",
    "count = 0\n",
    "for i in both:\n",
    "    if i in category_ingredients[cate]:\n",
    "        print \n",
    "        print i\n",
    "        print\n",
    "        print \"Compound Embedding\"\n",
    "        print model_ingr2vec_cc.most_similar(positive=[i], topn=10)\n",
    "        print\n",
    "        print \"Ingredient Context Embedding\"\n",
    "        print model_ingr2vec_ic.most_similar(positive=[i], topn=10)\n",
    "        print\n",
    "        print\n",
    "        count += 1\n",
    "print count"
   ]
  },
  {
   "cell_type": "code",
   "execution_count": 37,
   "metadata": {},
   "outputs": [
    {
     "data": {
      "text/plain": [
       "[(u'veal', 0.7714347243309021),\n",
       " (u'porcini', 0.7532565593719482),\n",
       " (u'cured_pork', 0.7221237421035767),\n",
       " (u'liver', 0.6956588625907898),\n",
       " (u'cremini_mushrooms', 0.6681399345397949),\n",
       " (u'parsnip', 0.6633132696151733),\n",
       " (u'marjoram', 0.6559063196182251),\n",
       " (u'turkey', 0.6452405452728271),\n",
       " (u'ham', 0.643652081489563),\n",
       " (u'bacon', 0.6404696106910706)]"
      ]
     },
     "execution_count": 37,
     "metadata": {},
     "output_type": "execute_result"
    }
   ],
   "source": [
    "model_ingr2vec_ic.most_similar(positive=['beef', 'truffle'], topn=10)"
   ]
  },
  {
   "cell_type": "code",
   "execution_count": 42,
   "metadata": {},
   "outputs": [
    {
     "data": {
      "text/plain": [
       "[(u'caraway', 0.4553211033344269),\n",
       " (u'beef', 0.45179736614227295),\n",
       " (u'beer', 0.4469038248062134),\n",
       " (u'bay', 0.4462040662765503),\n",
       " (u'meat', 0.43231600522994995),\n",
       " (u'sauerkraut', 0.42550161480903625),\n",
       " (u'roasted_pork', 0.4171394407749176),\n",
       " (u'celery_oil', 0.41368454694747925),\n",
       " (u'potatoes', 0.40992239117622375),\n",
       " (u'tamarind', 0.40658044815063477)]"
      ]
     },
     "execution_count": 42,
     "metadata": {},
     "output_type": "execute_result"
    }
   ],
   "source": [
    "model_ingr2vec_ic.most_similar(positive=['veal'], negative=['truffle'], topn=10)"
   ]
  },
  {
   "cell_type": "code",
   "execution_count": null,
   "metadata": {
    "collapsed": true
   },
   "outputs": [],
   "source": []
  }
 ],
 "metadata": {
  "kernelspec": {
   "display_name": "Python 2",
   "language": "python",
   "name": "python2"
  },
  "language_info": {
   "codemirror_mode": {
    "name": "ipython",
    "version": 2
   },
   "file_extension": ".py",
   "mimetype": "text/x-python",
   "name": "python",
   "nbconvert_exporter": "python",
   "pygments_lexer": "ipython2",
   "version": "2.7.6"
  }
 },
 "nbformat": 4,
 "nbformat_minor": 2
}
