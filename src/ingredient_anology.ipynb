{
 "cells": [
  {
   "cell_type": "code",
   "execution_count": 5,
   "metadata": {
    "collapsed": true
   },
   "outputs": [],
   "source": [
    "import os\n",
    "import collections\n",
    "import smart_open\n",
    "import random\n",
    "import numpy as np\n",
    "\n",
    "def load_ingredients(path):\n",
    "    ingredients = {}\n",
    "    ingredients_list = []\n",
    "    with open(path, 'r') as f:\n",
    "        for line in f:\n",
    "            if line[0] == '#':\n",
    "                pass\n",
    "            else:\n",
    "                line_split = line.rstrip().split('\\t')\n",
    "                ingredients_id = line_split[0]\n",
    "                ingredients_list = line_split[1:]\n",
    "                ingredients[ingredients_id] = ingredients_list\n",
    "    return ingredients"
   ]
  },
  {
   "cell_type": "code",
   "execution_count": 6,
   "metadata": {},
   "outputs": [],
   "source": [
    "path_data = '..' + os.sep + 'data'\n",
    "path_ingr_info = path_data + os.sep + 'scientific_report' + os.sep + 'ingr_info.tsv'\n",
    "ingredients = load_ingredients(path_ingr_info)"
   ]
  },
  {
   "cell_type": "code",
   "execution_count": 9,
   "metadata": {},
   "outputs": [],
   "source": [
    "ingredients_list = []\n",
    "for ingr_id in ingredients:\n",
    "    ingredients_list.append(ingredients[ingr_id][0])"
   ]
  },
  {
   "cell_type": "code",
   "execution_count": 77,
   "metadata": {},
   "outputs": [
    {
     "name": "stdout",
     "output_type": "stream",
     "text": [
      "star_anise_oil\tjapanese_star_anise_oil\n",
      "peppermint_oil\tjapanese_peppermint_oil\n",
      "mint\tjapanese_mint\n",
      "hop\tjapanese_hop\n",
      "whiskey\tjapanese_whiskey\n",
      "star_anise\tjapanese_star_anise\n",
      "peppermint\tjapanese_peppermint\n",
      "calamus\tjapanese_calamus\n",
      "plum\tjapanese_plum\n",
      "hop_oil\tjapanese_hop_oil\n",
      "cabbage\tchinese_cabbage\n",
      "star_anise_oil\tchinese_star_anise_oil\n",
      "quince\tchinese_quince\n",
      "cinnamon\tchinese_cinnamon\n",
      "star_anise\tchinese_star_anise\n",
      "orange_peel\tcalifornia_orange_peel\n",
      "orange\tcalifornia_orange\n",
      "lemon_oil\tcalifornia_lemon_oil\n",
      "pepper\tcalifornia_pepper\n",
      "pepper\tthai_pepper\n",
      "origanum\tspanish_origanum\n",
      "anise\tspanish_anise\n",
      "sage\tspanish_sage\n",
      "origanum_oil\tspanish_origanum_oil\n",
      "roasted_peanut\troasted_spanish_peanut\n",
      "storax\tasian_storax\n",
      "pepper\tethiopian_pepper\n",
      "storax\tamerican_storax\n",
      "peppermint\tamerican_peppermint\n",
      "pennyroyal\tamerican_pennyroyal\n",
      "peppermint_oil\tamerican_peppermint_oil\n",
      "potato_chip\tamerican_potato_chip\n",
      "cranberry\tamerican_cranberry\n",
      "cranberry\teuropean_cranberry\n"
     ]
    }
   ],
   "source": [
    "target_ingr_list = [\"japanese\",\"chinese\",\"california\",\"thai\",\"spanish\",\"asian\",\"ethiopian\",\"american\",\"european\"]\n",
    "\n",
    "\n",
    "for target_ingr in target_ingr_list:\n",
    "    #print target_ingr\n",
    "    \n",
    "    target_list = []\n",
    "    # all ingredients to extract target ingredients\n",
    "    for ingr in ingredients_list:\n",
    "        if target_ingr in ingr:\n",
    "            target_list.append(ingr)\n",
    "    #print target_list\n",
    "\n",
    "    # target ingrdients\n",
    "    for target in target_list:\n",
    "        target_split = target.split(\"_\")\n",
    "        try:\n",
    "            target_split.remove(target_ingr)\n",
    "        except ValueError :  # 에러 종류\n",
    "            continue\n",
    "\n",
    "        target_combined = \"_\".join(target_split)\n",
    "\n",
    "        if target_combined in ingredients_list:\n",
    "            print \"%s\\t%s\" % (target_combined, target)"
   ]
  },
  {
   "cell_type": "code",
   "execution_count": 89,
   "metadata": {
    "collapsed": true
   },
   "outputs": [],
   "source": [
    "def analogy(word_vectors, word1, word1_1, word2):\n",
    "    list_most_similar_cosmul = word_vectors.most_similar(positive=[word1, word1_1], negative=[word2])\n",
    "    print \"\\nIngredient Analogy Test\"\n",
    "    for dic in list_most_similar_cosmul:\n",
    "        word = dic[0]\n",
    "        score = dic[1]\n",
    "\n",
    "        if score > 0.5 :\n",
    "            print word, score \n",
    "        else:\n",
    "            print \"No similar words\""
   ]
  },
  {
   "cell_type": "code",
   "execution_count": 90,
   "metadata": {},
   "outputs": [],
   "source": [
    "from utils import DataLoader, GensimModels, DataPlotter\n",
    "gensimLoader = GensimModels.GensimModels()\n",
    "path_results = \"..\" + os.sep + \"results\"\n",
    "path_embeddings_ingredients = path_results + os.sep + 'embeddings' + os.sep + \"embeddings_ingredients_f-5_rs-True_ns-50_charemb-True_dim50.bin\"\n",
    "model = gensimLoader.load_word2vec(path=path_embeddings_ingredients)"
   ]
  },
  {
   "cell_type": "code",
   "execution_count": 99,
   "metadata": {},
   "outputs": [
    {
     "name": "stdout",
     "output_type": "stream",
     "text": [
      "\n",
      "Ingredient Analogy Test\n",
      "southern_pea 0.935042738914\n",
      "raw_pea 0.928950309753\n",
      "kohlrabi 0.597620785236\n",
      "endive 0.565876483917\n",
      "plant 0.540434241295\n",
      "comte_cheese 0.525678277016\n",
      "vinegar 0.511566758156\n",
      "lettuce 0.506060600281\n",
      "soybean 0.505736410618\n",
      "russian_cheese 0.505214810371\n"
     ]
    }
   ],
   "source": [
    "analogy(model, \"bean\", \"pea\", \"raw_b ean\")"
   ]
  },
  {
   "cell_type": "code",
   "execution_count": 100,
   "metadata": {},
   "outputs": [
    {
     "name": "stdout",
     "output_type": "stream",
     "text": [
      "\n",
      "Ingredient Analogy Test\n",
      "japanese_peppermint 0.643181443214\n",
      "french_peppermint 0.626390397549\n",
      "anise_hyssop 0.616428375244\n",
      "blue_cheese 0.584490120411\n",
      "swiss_cheese 0.568952441216\n",
      "vachellia_farnesiana 0.562510251999\n",
      "japanese_mint 0.558246791363\n",
      "parsnip_fruit 0.5467248559\n",
      "spearmint_oil 0.545478463173\n",
      "mint 0.528953552246\n"
     ]
    }
   ],
   "source": [
    "analogy(model, \"plum\", \"peppermint\", \"japanese_plum\")"
   ]
  },
  {
   "cell_type": "code",
   "execution_count": null,
   "metadata": {
    "collapsed": true
   },
   "outputs": [],
   "source": []
  }
 ],
 "metadata": {
  "kernelspec": {
   "display_name": "Python 2",
   "language": "python",
   "name": "python2"
  },
  "language_info": {
   "codemirror_mode": {
    "name": "ipython",
    "version": 2
   },
   "file_extension": ".py",
   "mimetype": "text/x-python",
   "name": "python",
   "nbconvert_exporter": "python",
   "pygments_lexer": "ipython2",
   "version": "2.7.6"
  }
 },
 "nbformat": 4,
 "nbformat_minor": 2
}
