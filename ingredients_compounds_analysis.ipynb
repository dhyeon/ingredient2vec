{
 "cells": [
  {
   "cell_type": "code",
   "execution_count": 7,
   "metadata": {},
   "outputs": [
    {
     "name": "stdout",
     "output_type": "stream",
     "text": [
      "/Users/asd/coding/ingredient2vec\n"
     ]
    }
   ],
   "source": [
    "import numpy as np\n",
    "import collections\n",
    "import pandas as pd\n",
    "import itertools\n",
    "import seaborn as sns\n",
    "import time\n",
    "import json\n",
    "import re\n",
    "import os\n",
    "\n",
    "print os.getcwd()"
   ]
  },
  {
   "cell_type": "code",
   "execution_count": 27,
   "metadata": {},
   "outputs": [],
   "source": [
    "'''\n",
    "Load data & Path\n",
    "\n",
    "'''\n",
    "\n",
    "path = 'data/'\n",
    "ingr_info = 'ingr_info.tsv'\n",
    "comp_info = 'comp_info.tsv'\n",
    "ingr_comp = 'ingr_comp.tsv'\n",
    "\n",
    "def load_ingredients(path):\n",
    "    ingredients = {}\n",
    "    ingredients_list = []\n",
    "    with open(path, 'r') as f:\n",
    "        for line in f:\n",
    "            if line[0] == '#':\n",
    "                pass\n",
    "            else:\n",
    "                line_split = line.rstrip().split('\\t')\n",
    "                ingredients_id = line_split[0]\n",
    "                ingredients_list = line_split[1:]\n",
    "                ingredients[ingredients_id] = ingredients_list\n",
    "    return ingredients\n",
    "\n",
    "def load_compounds(path):\n",
    "    compounds = {}\n",
    "    compounds_list = []\n",
    "    with open(path, 'r') as f:\n",
    "        for line in f:\n",
    "            if line[0] == '#':\n",
    "                pass\n",
    "            else:\n",
    "                line_split = line.rstrip().split('\\t')\n",
    "                compounds_id = line_split[0]\n",
    "                compounds_list = line_split[1:]\n",
    "                compounds[compounds_id] = compounds_list\n",
    "    return compounds\n",
    "\n",
    "def load_relations(path):\n",
    "    relations = {}\n",
    "    with open(path, 'r') as f:\n",
    "        for line in f:\n",
    "            if line[0] == '#':\n",
    "                pass\n",
    "            else:\n",
    "                line_split = line.rstrip().split('\\t')\n",
    "                ingredients_id = line_split[0]\n",
    "                compounds_id = line_split[1]\n",
    "                \n",
    "                if ingredients_id in relations:\n",
    "                    relations[ingredients_id].append(compounds_id)\n",
    "                    \n",
    "                else:\n",
    "                    relations[ingredients_id] = [compounds_id]\n",
    "                    \n",
    "    return relations\n",
    "\n",
    "\n",
    "\n",
    "ingredients = load_ingredients(path+ingr_info)\n",
    "compounds = load_compounds(path+comp_info)\n",
    "relations = load_relations(path+ingr_comp)"
   ]
  },
  {
   "cell_type": "code",
   "execution_count": 56,
   "metadata": {},
   "outputs": [
    {
     "name": "stdout",
     "output_type": "stream",
     "text": [
      "# of ingredients: 1530\n",
      "# of compounds: 1107\n",
      "\n",
      "############################\n",
      "\n",
      "# of ingredients with relations: 1525\n",
      "buchu_oil\n",
      "marjoram\n",
      "toasted_sesame_seed\n",
      "roasted_macadamia_nut\n",
      "eucalyptus\n"
     ]
    }
   ],
   "source": [
    "'''\n",
    "Relation Analysis\n",
    "Ingredients & Compounds\n",
    "'''\n",
    "\n",
    "print '# of ingredients:', len(ingredients)\n",
    "print '# of compounds:', len(compounds)\n",
    "\n",
    "print '\\n############################\\n'\n",
    "\n",
    "print '# of ingredients with relations:', len(relations)\n",
    "\n",
    "for rel in relations:\n",
    "    ingr, comps = rel[0], rel[1]\n",
    "    if len(comps) == 20:\n",
    "        print ingredients[ingr][0]"
   ]
  },
  {
   "cell_type": "code",
   "execution_count": null,
   "metadata": {
    "collapsed": true
   },
   "outputs": [],
   "source": []
  }
 ],
 "metadata": {
  "kernelspec": {
   "display_name": "Python 2",
   "language": "python",
   "name": "python2"
  },
  "language_info": {
   "codemirror_mode": {
    "name": "ipython",
    "version": 2
   },
   "file_extension": ".py",
   "mimetype": "text/x-python",
   "name": "python",
   "nbconvert_exporter": "python",
   "pygments_lexer": "ipython2",
   "version": "2.7.13"
  }
 },
 "nbformat": 4,
 "nbformat_minor": 2
}
